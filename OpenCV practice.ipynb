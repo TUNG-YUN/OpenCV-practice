{
 "cells": [
  {
   "cell_type": "code",
   "execution_count": null,
   "id": "b385d493",
   "metadata": {},
   "outputs": [],
   "source": [
    "import cv2 \n",
    "img = cv2.imread('C:/Users/Rebecca/Desktop/test.JPG')\n",
    "cv2.namedWindow(\"go\",0);  # 壓縮\n",
    "cv2.imshow('go',img)\n",
    "cv2.waitKey(0)"
   ]
  },
  {
   "cell_type": "code",
   "execution_count": null,
   "id": "74c0cfa2",
   "metadata": {},
   "outputs": [],
   "source": [
    "import cv2 \n",
    "img = cv2.imread('C:/Users/Rebecca/Desktop/test.JPG',cv2.IMREAD_REDUCED_GRAYSCALE_4)\n",
    "#cv2.namedWindow('ha',0)\n",
    "#cv2.imshow('ha',0)\n",
    "cv2.waitKey(0)\n",
    "cv2.imwrite('C:/Users/Rebecca/Desktop/testsave.jpg',img) #存在桌面\n",
    "cv2.imwrite('C:/Users/Rebecca/test/testsave2.png',img) #在c槽建置一個資料夾為test，把影像存入此資料夾\n",
    "cv2.destroyAllWindows()"
   ]
  },
  {
   "cell_type": "code",
   "execution_count": null,
   "id": "edb05094",
   "metadata": {},
   "outputs": [],
   "source": [
    "import cv2 \n",
    "import numpy as np\n",
    "img = cv2.imread('C:/Users/Rebecca/Desktop/test.JPG')\n",
    "img = np.zeros((500,500,3) , dtype='uint8')\n",
    "img[150:350, 150:350] = [0,0,255]\n",
    "cv2.imwrite('C:/Users/Rebecca/Desktop/testtestsave.jpg',img) #存在桌面\n",
    "cv2.imshow('ha',0)\n",
    "cv2.waitKey(0)\n"
   ]
  },
  {
   "cell_type": "code",
   "execution_count": null,
   "id": "edb04bd6",
   "metadata": {},
   "outputs": [],
   "source": [
    "import cv2 \n",
    "img = cv2.imread('C:/Users/Rebecca/Desktop/test.JPG',cv2.IMREAD_REDUCED_GRAYSCALE_2)\n",
    "print(img.shape)\n",
    "cv2.namedWindow('didit',0)\n",
    "cv2.imshow('didit',img)\n",
    "cv2.waitKey(0)\n"
   ]
  },
  {
   "cell_type": "code",
   "execution_count": null,
   "id": "3b021e5b",
   "metadata": {},
   "outputs": [],
   "source": [
    "import cv2 \n",
    "img = cv2.imread('C:/Users/Rebecca/Desktop/test.JPG')\n",
    "img = cv2.cvtColor(img,cv2.COLOR_BGR2HLS)\n",
    "cv2.imwrite('C:/Users/Rebecca/Desktop/save1.jpg',img)\n",
    "cv2.waitKey(0)\n"
   ]
  },
  {
   "cell_type": "markdown",
   "id": "3a653cdd",
   "metadata": {},
   "source": [
    "cvtcolor()色彩轉換"
   ]
  },
  {
   "cell_type": "code",
   "execution_count": null,
   "id": "33ea6683",
   "metadata": {},
   "outputs": [],
   "source": [
    "import cv2\n",
    "img = cv2.imread('C:/Users/Rebecca/Desktop/test.JPG')\n",
    "img = cv2.cvtColor(img,cv2.COLOR_BGR2GRAY)     #轉換成灰階影像\n",
    "cv2.imwrite('C:/Users/Rebecca/Desktop/gray.jpg',img)\n",
    "cv2.waitKey(0)\n"
   ]
  },
  {
   "cell_type": "markdown",
   "id": "e0344db9",
   "metadata": {},
   "source": [
    "影像負片效果"
   ]
  },
  {
   "cell_type": "code",
   "execution_count": null,
   "id": "beecebe5",
   "metadata": {},
   "outputs": [],
   "source": [
    "import cv2\n",
    "img = cv2.imread('C:/Users/Rebecca/Desktop/test.JPG')\n",
    "rows = img.shape[0]\n",
    "cols = img.shape[1]\n",
    "\n",
    "for row in range(rows):\n",
    "    for col in range(cols):\n",
    "        img[row,col,0] = 255 - img[row,col,0]\n",
    "        img[row,col,1] = 255 - img[row,col,1]\n",
    "        img[row,col,2] = 255 - img[row,col,2]\n",
    "cv2.namedWindow('go',0)\n",
    "cv2.imshow('go',img)\n",
    "cv2.waitKey(0)"
   ]
  },
  {
   "cell_type": "markdown",
   "id": "3a0ef862",
   "metadata": {},
   "source": []
  },
  {
   "cell_type": "code",
   "execution_count": null,
   "id": "f0235025",
   "metadata": {},
   "outputs": [],
   "source": [
    "import cv2\n",
    "img = cv2.imread('C:/Users/Rebecca/Desktop/test.JPG')\n",
    "rows = img.shape[0]\n",
    "cols = img.shape[1]\n",
    "\n",
    "for row in range(rows):\n",
    "    for col in range(cols):\n",
    "        img[row,col,0] = 255 - img[row,col,0]\n",
    "        img[row,col,1] = 255 - img[row,col,1]\n",
    "        img[row,col,2] = 255 - img[row,col,2]\n",
    "cv2.imwrite('C:/Users/Rebecca/Desktop/gray1.jpg',img)\n",
    "cv2.waitKey(0)\n"
   ]
  },
  {
   "cell_type": "markdown",
   "id": "e4a2282a",
   "metadata": {},
   "source": [
    "特定區域套用負片效果"
   ]
  },
  {
   "cell_type": "code",
   "execution_count": null,
   "id": "47b21b75",
   "metadata": {},
   "outputs": [],
   "source": [
    "import cv2\n",
    "img = cv2.imread('C:/Users/Rebecca/Desktop/test.JPG')\n",
    "rows = img.shape[0]\n",
    "cols = img.shape[1]\n",
    "\n",
    "for row in range(int(rows/2)):\n",
    "    for col in range(cols):\n",
    "        img[row,col,0] = 255 - img[row,col,0]\n",
    "        img[row,col,1] = 255 - img[row,col,1]\n",
    "        img[row,col,2] = 255 - img[row,col,2]\n",
    "cv2.imwrite('C:/Users/Rebecca/Desktop/gray2.jpg',img)\n",
    "cv2.waitKey(0)\n",
    "\n"
   ]
  },
  {
   "cell_type": "code",
   "execution_count": null,
   "id": "5463c64f",
   "metadata": {},
   "outputs": [],
   "source": [
    "import cv2\n",
    "img = cv2.imread('C:/Users/Rebecca/Desktop/test.JPG')\n",
    "img = 255 - img\n",
    "cv2.namedWindow('go',0)\n",
    "cv2.imshow('go',img)"
   ]
  },
  {
   "cell_type": "code",
   "execution_count": null,
   "id": "6f1fcec0",
   "metadata": {},
   "outputs": [],
   "source": [
    "import cv2\n",
    "img = cv2.imread('C:/Users/Rebecca/Desktop/test.JPG')\n",
    "#img = cv2.cvtColor(img, cv2.COLOR_BGR2GRAY)   # RGB轉換成灰階影像\n",
    "#img = cv2.cvtColor(img, cv2.COLOR_BGR2BGRA)    # RGB轉RGBA\n",
    "#img = cv2.cvtColor(img, cv2.COLOR_BGRA2BGR)     # RGBA轉RGB\n",
    "#img = cv2.cvtColor(img, cv2.COLOR_BGR2HSV)       # RGB轉HSV\n",
    "img = cv2.cvtColor(img, cv2.COLOR_RGB2HLS)      # RGB轉RSL\n",
    "cv2.namedWindow('ggg',0)\n",
    "cv2.imshow('ggg',img)\n",
    "cv2.waitKey(0)        #按下任意鍵停止\n"
   ]
  },
  {
   "cell_type": "code",
   "execution_count": null,
   "id": "3e56c71e",
   "metadata": {},
   "outputs": [],
   "source": [
    "import cv2\n",
    "img = cv2.imread('C:/Users/Rebecca/Desktop/test.JPG')\n",
    "rows = img.shape[0]        #取得高度的總像素\n",
    "cols = img.shape[1]        #取得寬度的總像素\n",
    "\n",
    "for row in range(rows):\n",
    "    for col in range(cols):\n",
    "        img [row,col,0] = 255 - img[row,col,0]    # 255-藍色\n",
    "        img [row,col,1] = 255 - img[row,col,1]    # 255-綠色\n",
    "        img [row,col,2] = 255 - img[row,col,2]    # 255-紅色\n",
    "cv2.imwrite('C:/Users/Rebecca/Desktop/gray2.jpg',img)\n",
    "cv2.waitKey(0)"
   ]
  },
  {
   "cell_type": "code",
   "execution_count": null,
   "id": "4e4aac14",
   "metadata": {},
   "outputs": [],
   "source": [
    "import cv2 \n",
    "img = cv2.imread('C:/Users/Rebecca/Desktop/test.JPG')\n",
    "rows = img.shape[0]\n",
    "cols = img.shape[1]\n",
    "\n",
    "for row in range(int(rows/2)):    #只取 rows 的一半 (使用int取整數)\n",
    "    for col in range(cols):\n",
    "        img[row, col, 0] = 255 - img[row,col,0]\n",
    "        img[row, col, 1] = 255 - img[row,col,1]\n",
    "        img[row, col, 2] = 255 - img[row,col,2]\n",
    "cv2.imwrite('C:/Users/Rebecca/Desktop/gray3.jpg',img)\n",
    "cv2.waitKey(0)"
   ]
  },
  {
   "cell_type": "code",
   "execution_count": null,
   "id": "98c82d7b",
   "metadata": {},
   "outputs": [],
   "source": [
    "import cv2\n",
    "img = cv2.imread('C:/Users/Rebecca/Desktop/test.JPG')\n",
    "img = 255 - img      #使用 255 減去陣列中所有數值\n",
    "cv2.imwrite('C:/Users/Rebecca/Desktop/gray4.jpg',img)\n",
    "cv2.waitKey(0)"
   ]
  },
  {
   "cell_type": "code",
   "execution_count": null,
   "id": "98b5f9af",
   "metadata": {},
   "outputs": [],
   "source": [
    "import cv2\n",
    "import numpy as np\n",
    "img = cv2.imread('C:/Users/Rebecca/Desktop/test.JPG')\n",
    "contrast = 200\n",
    "brightness = 0\n",
    "output = img * (contrast/127 + 1) - contrast + brightness   #轉換公式\n",
    "\n",
    "#調整後的數值大多為浮點數，且可能會小於0或大於255\n",
    "#為了保持像素色彩區間為0-255的整數，所以再使用 np.clip() 和 np.uint8()進行轉換\n",
    "output = np.clip(output,0,255)\n",
    "output = np.uint8(output)\n",
    "cv2.namedWindow('original',0)     \n",
    "cv2.imshow('original',img)         #原始圖片\n",
    "cv2.namedWindow('after',0)\n",
    "cv2.imshow('after',output)         #調整亮度對比的圖片\n",
    "cv2.waitKey(0)                     #按下任意鍵停止"
   ]
  },
  {
   "cell_type": "code",
   "execution_count": null,
   "id": "14c017ff",
   "metadata": {},
   "outputs": [],
   "source": [
    "import cv2\n",
    "import numpy as np\n",
    "\n",
    "img = cv2.imread('C:/Users/Rebecca/Desktop/test.JPG')\n",
    "output = img     # 建立output變數\n",
    "alpha = 1\n",
    "beta = 10\n",
    "\n",
    "cv2.convertScaleAbs(img,output,alpha,beta)       # 套用 convertScaleAbs\n",
    "# img 來源影像\n",
    "# output 輸出影像，公式 : output = img*alpha + beta\n",
    "# alpha, beta 公式中的參數\n",
    "cv2.namedWindow('yyy',0)\n",
    "cv2.imshow('yyy',output)\n",
    "cv2.waitKey(0)"
   ]
  },
  {
   "cell_type": "code",
   "execution_count": null,
   "id": "0fdc4793",
   "metadata": {},
   "outputs": [],
   "source": [
    "import cv2 \n",
    "img = cv2.imread('C:/Users/Rebecca/Desktop/test.JPG')\n",
    "img_gray = cv2.cvtColor(img, cv2.COLOR_BGR2GRAY);     #轉換前，都先將圖片轉換成灰階色彩\n",
    "\n",
    "# 如果大於127就等於255，反之等於0\n",
    "ret, output1 = cv2.threshold(img_gray, 127, 255, cv2.THRESH_BINARY)\n",
    "\n",
    "# 如果大於127就等於0，反之等於255\n",
    "ret, output2 = cv2.threshold(img_gray, 127, 255, cv2.THRESH_BINARY_INV)\n",
    "\n",
    "# 如果大於127就等於127，反之數值不變\n",
    "ret, output3 = cv2.threshold(img_gray, 127, 255, cv2.THRESH_TRUNC)\n",
    "\n",
    "# 如果大於127數值不變，反之數值等於0\n",
    "ret, output4 = cv2.threshold(img_gray, 127, 255, cv2.THRESH_TOZERO)\n",
    "\n",
    "# 如果大於127等於0，反之數值不變\n",
    "ret, output5 = cv2.threshold(img_gray, 127, 255, cv2.THRESH_TOZERO_INV)\n",
    "\n",
    "cv2.namedWindow('picture',0)\n",
    "cv2.imshow('picture',img)\n",
    "cv2.namedWindow('picture1',0)\n",
    "cv2.imshow('picture1',output1)\n",
    "cv2.namedWindow('picture2',0)\n",
    "cv2.imshow('picture2',output2)\n",
    "cv2.namedWindow('picture3',0)\n",
    "cv2.imshow('picture3',output3)\n",
    "cv2.namedWindow('picture4',0)\n",
    "cv2.imshow('picture4',output4)\n",
    "cv2.namedWindow('picture5',0)\n",
    "cv2.imshow('picture5',output5)\n",
    "cv2.waitKey(0)    #按下任意鍵停止"
   ]
  },
  {
   "cell_type": "code",
   "execution_count": null,
   "id": "ef29e305",
   "metadata": {},
   "outputs": [],
   "source": [
    "import cv2\n",
    "img = cv2.imread('C:/Users/Rebecca/Desktop/test.JPG')\n",
    "img = gray = cv2.cvtColor(img, cv2.COLOR_BGR2GRAY);   # 轉換前都先將圖片轉換成灰階色彩\n",
    "\n",
    "ret, output1 = cv2.threshold(img_gray, 127, 255, cv2.THRESH_BINARY)\n",
    "\n",
    "output2 = cv2.adaptiveThreshold(img_gray, 255, cv2.ADAPTIVE_THRESH_MEAN_C, cv2.THRESH_BINARY, 11, 2)\n",
    "\n",
    "output3 = cv2.adaptiveThreshold(img_gray, 255, cv2.ADAPTIVE_THRESH_GAUSSIAN_C, cv2.THRESH_BINARY, 11, 2)\n",
    "\n",
    "cv2.namedWindow('one',0)\n",
    "cv2.imshow('one',img)\n",
    "cv2.namedWindow('one1',0)\n",
    "cv2.imshow('one1',output1)\n",
    "cv2.namedWindow('two',0)\n",
    "cv2.imshow('two',output2)\n",
    "cv2.namedWindow('three',0)\n",
    "cv2.imshow('three',output3)\n",
    "cv2.waitKey(0)"
   ]
  },
  {
   "cell_type": "code",
   "execution_count": null,
   "id": "507964f6",
   "metadata": {},
   "outputs": [],
   "source": [
    "import cv2\n",
    "img = cv2.imread('C:/Users/Rebecca/Desktop/test.JPG')\n",
    "img_gray = cv2.cvtColor(img, cv2.COLOR_BGR2GRAY);\n",
    "\n",
    "#cv2.adaptiveThreshold(img,maxValue,adaptiveMethod,thresholdType,blockSize,C)\n",
    "# img 來源影像\n",
    "# maxValue 最大灰度，通常設定255\n",
    "# adaptiveMethod  自適應二值化計算方法\n",
    "# thresholdType  二值化轉換方式\n",
    "# blockSize  轉換區域大小，通常設定 11\n",
    "# C 偏移量，通常設定2\n",
    "output1 = cv2.adaptiveThreshold(img_gray, 255, cv2.ADAPTIVE_THRESH_GAUSSIAN_C, cv2.THRESH_BINARY,11,2)\n",
    "img_gray2 = cv2.medianBlur(img_gray,5)    # 模糊化\n",
    "output2 = cv2.adaptiveThreshold(img_gray2, 255, cv2.ADAPTIVE_THRESH_GAUSSIAN_C, cv2.THRESH_BINARY, 11, 2)\n",
    "\n",
    "cv2.namedWindow('picture1',0)\n",
    "cv2.imshow('picture1',output1)\n",
    "cv2.namedWindow('picture2',0)\n",
    "cv2.imshow('picture2', output2)\n",
    "cv2.waitKey(0)\n"
   ]
  },
  {
   "cell_type": "code",
   "execution_count": null,
   "id": "7519e049",
   "metadata": {},
   "outputs": [],
   "source": [
    "import cv2\n",
    "img_test = cv2.imread('C:/Users/Rebecca/Desktop/test.JPG')\n",
    "img_boy = cv2.imread('C:/Users/Rebecca/Desktop/boy.JPG')\n",
    "\n",
    "print(img_test.shape,img_boy.shape)   # 印出原先圖片的尺寸大小\n",
    "img_test = cv2.resize(img_test,(3024,4032))   #因兩個圖片尺寸不一樣，對圖片進行修改\n",
    "print(img_test.shape,img_boy.shape)    #再檢查一次兩圖片的尺寸大小是否一樣\n",
    "\n",
    "output = cv2.add(img_test,img_boy)    #兩圖片疊加一起\n",
    "cv2.namedWindow('picture1',0)\n",
    "cv2.imshow('picture1',output)\n",
    "cv2.waitKey(0)"
   ]
  },
  {
   "cell_type": "code",
   "execution_count": null,
   "id": "2b4c8764",
   "metadata": {},
   "outputs": [],
   "source": [
    "import cv2\n",
    "img = cv2.imread('C:/Users/Rebecca/Desktop/test.JPG')\n",
    "logo = cv2.imread('C:/Users/Rebecca/Desktop/boy.JPG')\n",
    "print(img.shape,logo.shape)\n",
    "img = cv2.resize(img,(3024,4023))\n",
    "print(img.shape,logo.shape)\n",
    "output = cv2.addWeighted(img, 0.5, logo, 0.3, 50)\n",
    "\n",
    "cv2.namedWindow('rrr',0)\n",
    "cv2.imshow('rrr',output)\n",
    "cv2.waitKey(0)\n"
   ]
  },
  {
   "cell_type": "code",
   "execution_count": null,
   "id": "96e0da12",
   "metadata": {},
   "outputs": [],
   "source": [
    "import cv2\n",
    "img1 = cv2.imread('C:/Users/Rebecca/Desktop/test.JPG')\n",
    "img2 = cv2.imread('C:/Users/Rebecca/Desktop/boy.JPG')\n",
    "print(img1.shape,img2.shape)\n",
    "img1 = cv2.resize(img1,(3024,4023))\n",
    "print(img1.shape,img2.shape)\n",
    "output = cv2.subtract(img1,img2)\n",
    "cv2.namedWindow('ggg',0)\n",
    "cv2.imwrite('gggg',output)\n",
    "cv2.waitKey(0)"
   ]
  },
  {
   "cell_type": "code",
   "execution_count": null,
   "id": "cb0b4938",
   "metadata": {},
   "outputs": [],
   "source": [
    "import cv2\n",
    "import numpy as np\n",
    "\n",
    "w,h = 400, 400\n",
    "img = np.zeros([h,w,3])\n",
    "for i in range(h):\n",
    "    img[i,:,1] = int(256*i/400)   # 從上往下填入綠色漸層\n",
    "    \n",
    "img = img.astype('float32') / 255   # 轉換內容類型\n",
    "\n",
    "cv2.namedWindow('ooo',0)\n",
    "cv2.imshow('ooo',img)\n",
    "cv2.waitKey(0)"
   ]
  },
  {
   "cell_type": "code",
   "execution_count": null,
   "id": "d9610734",
   "metadata": {},
   "outputs": [],
   "source": [
    "#左上到右下的紫色漸層\n",
    "import cv2\n",
    "import numpy as np\n",
    "\n",
    "w = 400\n",
    "h = 400\n",
    "img = np.zeros([h,w,3])\n",
    "for i in range(h):\n",
    "    for j in range(w):\n",
    "        img[i,j,0] = int (256*(j+i) / (w+h))\n",
    "        img[i,j,2] = int (256*(j+i) / (w+h))\n",
    "img = img.astype('float32')/255\n",
    "\n",
    "cv2.namedWindow('ppp',0)\n",
    "cv2.imshow('ppp',img)\n",
    "cv2.waitKey(0)"
   ]
  },
  {
   "cell_type": "code",
   "execution_count": null,
   "id": "5db3c188",
   "metadata": {},
   "outputs": [],
   "source": [
    "import cv2\n",
    "import numpy as np\n",
    "img2 = cv2.imread('C:/Users/Rebecca/Desktop/boy.JPG')\n",
    "w = 400\n",
    "h = 400\n",
    "img = np.zeros([h,w,4])\n",
    "for i in range(h):\n",
    "    img[i,:,3] = int(256*i/400)\n",
    "    \n",
    "img = img.astype('float32')/255\n",
    "cv2.imwrite('C:/Users/Rebecca/Desktop/boy1.png')\n",
    "cv2.waitKey(0)\n"
   ]
  },
  {
   "cell_type": "code",
   "execution_count": null,
   "id": "b066b72f",
   "metadata": {},
   "outputs": [],
   "source": [
    "#鼻咽癌灰階\n",
    "import cv2 \n",
    "img = cv2.imread('C:/Users/Rebecca/Desktop/nose.jpg',cv2.IMREAD_REDUCED_GRAYSCALE_2)\n",
    "print(img.shape)\n",
    "cv2.namedWindow('didit',0)\n",
    "cv2.imshow('didit',img)\n",
    "cv2.waitKey(0)"
   ]
  },
  {
   "cell_type": "code",
   "execution_count": null,
   "id": "a024eb0d",
   "metadata": {},
   "outputs": [],
   "source": [
    "import cv2\n",
    "img = cv2.imread('C:/Users/Rebecca/Desktop/nose.jpg')\n",
    "cv2.namedWindow('jjj',0)\n",
    "cv2.imwrite('C:/Users/Rebecca/Desktop/nose1.jpg')\n",
    "cv2.waitKey(0)"
   ]
  },
  {
   "cell_type": "code",
   "execution_count": null,
   "id": "e41ad845",
   "metadata": {},
   "outputs": [],
   "source": [
    "import cv2\n",
    "img = cv2.imread('C:/Users/Rebecca/Desktop/test.jpg')\n",
    "img = cv2.cvtColor(img,cv2.COLOR_BGR2GRAY)\n",
    "img = cv2.medianBlur(img,7)\n",
    "output = cv2.Laplacian(img, -1, 1,5)\n",
    "cv2.namedWindow('uuu',0)\n",
    "cv2.imshow(C:/Users/Rebecca/Desktop/test111.png',img)\n",
    "cv2.waitKey(0)"
   ]
  },
  {
   "cell_type": "code",
   "execution_count": null,
   "id": "f73a7d20",
   "metadata": {},
   "outputs": [],
   "source": [
    "import cv2\n",
    "import numpy as np\n",
    "\n",
    "w = 400\n",
    "h = 400\n",
    "img = np.zeros([h,w,4])    #第三個值為 4\n",
    "for i in range(h):\n",
    "    img[i,:,3] = int(256*i/400)    # 設定第四個值 (透明度)\n",
    "img = img.astype('float32')/255\n",
    "cv2.imwrite('C:/Users/Rebecca/Desktop/test111.png',img)\n",
    "cv2.waitKey(0)"
   ]
  },
  {
   "cell_type": "code",
   "execution_count": null,
   "id": "2ad8fb9a",
   "metadata": {},
   "outputs": [],
   "source": [
    "import cv2\n",
    "img = cv2.imread('C:/Users/Rebecca/Desktop/nose.jpg')    # 開啟圖片\n",
    "output_0 = cv2.flip(img,0)        # 上下翻轉\n",
    "output_1 = cv2.flip(img,1)        # 左右翻轉\n",
    "output_2 = cv2.flip(img,-1)       # 上下左右翻轉\n",
    "cv2.imwrite('C:/Users/Rebecca/Desktop/nose1.png',output_0)\n",
    "cv2.imwrite('C:/Users/Rebecca/Desktop/nose2.png',output_1)\n",
    "cv2.imwrite('C:/Users/Rebecca/Desktop/nose3.png',output_2)\n",
    "cv2.waitKey(0)\n"
   ]
  },
  {
   "cell_type": "code",
   "execution_count": null,
   "id": "4e8f0c43",
   "metadata": {},
   "outputs": [],
   "source": [
    "import cv2\n",
    "img = cv2.imread('C:/Users/Rebecca/Desktop/nose.jpg')\n",
    "output = cv2.transpose(img)    # 逆時針旋轉90度\n",
    "cv2.imwrite('C:/Users/Rebecca/Desktop/nose1.png',output)\n",
    "cv2.waitKey(0)"
   ]
  },
  {
   "cell_type": "code",
   "execution_count": null,
   "id": "f2a27878",
   "metadata": {},
   "outputs": [],
   "source": [
    "import cv2\n",
    "img = cv2.imread('C:/Users/Rebecca/Desktop/nose.jpg')\n",
    "output_ROTATE_90_CLOCKWISE = cv2.rotate(img, cv2.ROTATE_90_CLOCKWISE)\n",
    "output_ROTATE_90_COUNTERCLOCKWISE = cv2.rotate(img,cv2.ROTATE_90_COUNTERCLOCKWISE)\n",
    "output_ROTATE_180 = cv2.rotate(img,cv2.ROTATE_180)\n",
    "cv2.imwrite('C:/Users/Rebecca/Desktop/nose0.png',output_ROTATE_90_CLOCKWISE)\n",
    "cv2.imwrite('C:/Users/Rebecca/Desktop/nose1.png',output_ROTATE_90_COUNTERCLOCKWISE)\n",
    "cv2.imwrite('C:/Users/Rebecca/Desktop/nose2.png',output_ROTATE_180)"
   ]
  },
  {
   "cell_type": "code",
   "execution_count": null,
   "id": "cf8794c8",
   "metadata": {},
   "outputs": [],
   "source": [
    "import cv2\n",
    "img = cv2.imread('C:/Users/Rebecca/Desktop/nose.jpg')\n",
    "output_1 = cv2.resize(img,(200,200))      #產生 200*200的圖\n",
    "output_2 = cv2.resize(img,(100,300))      #產生 100*300的圖\n",
    "cv2.imwrite('C:/Users/Rebecca/Desktop/one.png',output_1)\n",
    "cv2.imwrite('C:/Users/Rebecca/Desktop/two.png',output_2)"
   ]
  },
  {
   "cell_type": "code",
   "execution_count": null,
   "id": "b259c1d1",
   "metadata": {},
   "outputs": [],
   "source": [
    "import cv2 \n",
    "img = cv2.imread('C:/Users/Rebecca/Desktop/nose.jpg')\n",
    "M = np.float32([[1,0,100],[0,1,100]])    # 2*3 矩陣，x軸平移100,y軸平移100\n",
    "output = cv2.warpAffine(img, M,(480,360))\n",
    "cv2.imwrite('C:/Users/Rebecca/Desktop/first.png',output)\n",
    "cv2.waitKey(0)"
   ]
  },
  {
   "cell_type": "code",
   "execution_count": null,
   "id": "174b0e15",
   "metadata": {},
   "outputs": [],
   "source": [
    "import cv2\n",
    "img = cv2.imread('C:/Users/Rebecca/Desktop/test.JPG')\n",
    "M = cv2.getRotationMatrix2D((240,180),45,1)     # 中心點(240,180)，旋轉45度，尺寸1\n",
    "output = cv2.warpAffine(img,M,(480,360))\n",
    "cv2.imwrite('C:/Users/Rebecca/Desktop/first1.png',output)\n",
    "cv2.waitKey(0)\n"
   ]
  },
  {
   "cell_type": "code",
   "execution_count": null,
   "id": "c43412f1",
   "metadata": {},
   "outputs": [],
   "source": [
    "import cv2\n",
    "import numpy as np \n",
    "img = cv2.imread('C:/Users/Rebecca/Desktop/nose.jpg')\n",
    "p1 = np.float32([[100,100],[480,0],[0,360]])\n",
    "p2 = np.float32([[0,0],[480,0],[0,360]])\n",
    "M = cv2.getAffineTransform(p1,p2)\n",
    "output = cv2.warpAffine(img,M,(480,360))\n",
    "cv2.imwrite('C:/Users/Rebecca/Desktop/first1.png',output)\n",
    "cv2.waitKey(0)"
   ]
  },
  {
   "cell_type": "code",
   "execution_count": null,
   "id": "2d64eab2",
   "metadata": {},
   "outputs": [],
   "source": [
    "import cv2\n",
    "img = cv2.imread('C:/Users/Rebecca/Desktop/nose.jpg')\n",
    "x = 100\n",
    "y = 100\n",
    "w = 500\n",
    "h = 200\n",
    "crop_img = img[y:y+h, x:x+w]  # 取出陣列的範圍\n",
    "cv2.imwrite('C:/Users/Rebecca/Desktop/first1.png',crop_img)\n",
    "cv2.waitKey(0)  "
   ]
  },
  {
   "cell_type": "code",
   "execution_count": null,
   "id": "ad5122c1",
   "metadata": {},
   "outputs": [],
   "source": [
    "import cv2\n",
    "import numpy as np \n",
    "img = cv2.imread('C:/Users/Rebecca/Desktop/test.JPG')\n",
    "x = 100\n",
    "y = 100\n",
    "w = 200\n",
    "h = 200\n",
    "crop_img = img[y:y+h, x:x+w]\n",
    "\n",
    "output = np.zeros((360,480,3),dtype='uint8')     #產生黑色畫布\n",
    "output[x:x+w, y:y+h] = crop_img\n",
    "cv2.imwrite('C:/Users/Rebecca/Desktop/pppp.jpg',output)\n",
    "cv2.waitKey(0)\n"
   ]
  },
  {
   "cell_type": "code",
   "execution_count": null,
   "id": "20384ff1",
   "metadata": {},
   "outputs": [],
   "source": [
    "import cv2\n",
    "import numpy as np\n",
    "img = np.zeros((150,300,3), dtype='uint8')    # 建立 300*150 的黑色畫布\n",
    "text = 'Hello'\n",
    "org = (20,90)\n",
    "fontFace = cv2.FONT_HERSHEY_SIMPLEX\n",
    "fontScale = 2.5\n",
    "color = (0,0,255)\n",
    "thickness = 5\n",
    "lineType = cv2.LINE_AA\n",
    "cv2.putText(img, text,org,fontFace,fontScale,color,thickness,lineType)\n",
    "# img 來源影像\n",
    "# text 文字內容\n",
    "# org 文字座標 (垂直方向是文字底部到影像頂端的距離)\n",
    "# fontFace 文字字型\n",
    "# fontScale 文字尺寸\n",
    "# color 線條顏色，使用BGR\n",
    "# thickness 文字外框線條粗細，預設 1\n",
    "# lineType 外框線條樣式，預設 cv2.LINE_8，設定 cv2.LINE_AA 可以反鋸齒\n",
    "cv2.namedWindow('pp',0)\n",
    "cv2.imshow('pp',img)\n",
    "cv2.waitKey(0)\n"
   ]
  },
  {
   "cell_type": "code",
   "execution_count": null,
   "id": "bcb4a427",
   "metadata": {},
   "outputs": [],
   "source": [
    "import cv2\n",
    "img = cv2.imread('C:/Users/Rebecca/Desktop/test.JPG')\n",
    "output1 = cv2.blur(img, (5,5))     # 指定區域單位為 (5,5)\n",
    "output2 = cv2.blur(img, (55,55))   # 指定區域單位為 (55,55)\n",
    "cv2.namedWindow('pp1',0)\n",
    "cv2.imshow('pp1',output1)\n",
    "cv2.namedWindow('pp2',0)\n",
    "cv2.imshow('pp2',output2)\n",
    "cv2.waitKey(0)\n"
   ]
  },
  {
   "cell_type": "code",
   "execution_count": null,
   "id": "7f0f8d70",
   "metadata": {},
   "outputs": [],
   "source": [
    "import cv2\n",
    "img = cv2.imread('C:/Users/Rebecca/Desktop/test.JPG')\n",
    "# img 來源影像\n",
    "# ksize 指定區域單位 (必須是大於 1 的奇數)\n",
    "# sigmaX X方向標準差，預設為0，sigmaY Y方向標準差，預設為0\n",
    "output1 = cv2.GaussianBlur(img, (5,5),0)      # 指定區域單位為 (5,5)\n",
    "output2 = cv2.GaussianBlur(img, (105,105),0)  # 指定區域單位為 (105,105)\n",
    "cv2.namedWindow('ppp',0)\n",
    "cv2.imshow('ppp',output1)\n",
    "cv2.namedWindow('ppp1',0)\n",
    "cv2.imshow('ppp1',output2)\n",
    "cv2.waitKey(0)\n"
   ]
  },
  {
   "cell_type": "code",
   "execution_count": null,
   "id": "de106820",
   "metadata": {},
   "outputs": [],
   "source": [
    "import cv2\n",
    "img = cv2.imread('C:/Users/Rebecca/Desktop/test.JPG')\n",
    "output1 = cv2.medianBlur(img,5)   # 模糊程度為5\n",
    "output2 = cv2.medianBlur(img,105)  #模糊程度為105\n",
    "# img 影像來源\n",
    "# ksize 模糊程度 (必須大於 1 的奇數) \n",
    "cv2.namedWindow('pic1',0)\n",
    "cv2.imshow('pic1',output1)\n",
    "cv2.namedWindow('pic2',0)\n",
    "cv2.imshow('pic2',output2)\n",
    "cv2.waitKey(0)"
   ]
  },
  {
   "cell_type": "code",
   "execution_count": null,
   "id": "d995a14b",
   "metadata": {},
   "outputs": [],
   "source": [
    "import cv2\n",
    "img = cv2.imread('C:/Users/Rebecca/Desktop/test.JPG')\n",
    "output1 = cv2.bilateralFilter(img, 50,0,0)\n",
    "output2 = cv2.bilateralFilter(img,50,50,100)\n",
    "output3 = cv2.bilateralFilter(img,50,100,10000)\n",
    "# img 影像來源\n",
    "# d 相鄰像素的直徑，預設使用 5 ， 數值越大運算速度越慢\n",
    "# sigmaColor 相鄰像素的顏色混合，數值越大，會混合更多區域的顏色，並產生更大區塊的同一種顏色\n",
    "# sigmaSpace 會影響像素的區域，數值越大，影響的範圍就越大，影響的像素就越多\n",
    "cv2.namedWindow('pp1',0)\n",
    "cv2.imshow('pp1',output1)\n",
    "cv2.namedWindow('pp2',0)\n",
    "cv2.imshow('pp2',output2)\n",
    "cv2.namedWindow('pp3',0)\n",
    "cv2.imshow('pp3',output3)\n",
    "cv2.waitKey(0)"
   ]
  },
  {
   "cell_type": "code",
   "execution_count": null,
   "id": "42a40858",
   "metadata": {},
   "outputs": [],
   "source": [
    "import cv2 \n",
    "img = cv2.imread('C:/Users/Rebecca/Desktop/test.JPG')\n",
    "size = img.shape     #取得原始圖片的資訊\n",
    "level = 30      #縮小比例 ( 可當作馬賽克的等級)\n",
    "h = int(size[0]/level)    # 按照比例縮小後的高度(使用int去除小數點)\n",
    "w = int(size[0]/level)    # 按照比例縮小後的寬度(使用int去除小數點)\n",
    "mosaic = cv2.resize(img,(w,h),interpolation=cv2.INTER_LINEAR)    #根據縮小尺寸縮小\n",
    "mosaic = cv2.resize(mosaic,(size[1],size[0]),interpolation=cv2.INTER_NEAREST)  # 放大到原本的大小\n",
    "cv2.namedWindow('oo',0)\n",
    "cv2.imshow('oo',mosaic)\n",
    "cv2.waitKey(0)"
   ]
  },
  {
   "cell_type": "code",
   "execution_count": null,
   "id": "ebb5e0a7",
   "metadata": {},
   "outputs": [],
   "source": [
    "import cv2\n",
    "img = cv2.imread('C:/Users/Rebecca/Desktop/test.JPG')\n",
    "x = 135     # 剪裁區域左上 x 座標\n",
    "y = 110     # 剪裁區域左上 y 座標\n",
    "cw = 100    # 剪裁區域寬度\n",
    "ch = 720    # 剪裁區域高度\n",
    "mosaic = img[y:y+ch, x:x+cw]      # 取得剪裁區域\n",
    "level = 35     # 馬賽克程度\n",
    "h = int(ch/level)   # 縮小的高度 (使用 int 去除小數點)\n",
    "w = int(cw/level)   # 縮小的寬度 (使用 int 去除小數點)\n",
    "mosaic = cv2.resize(mosaic,(w,h),interpolation=cv2.INTER_LINEAR)\n",
    "mosaic = cv2.resize(mosaic,(cw,ch),interpolation=cv2.INTER_NEAREST)\n",
    "img[y:y+ch, x:x+cw] = mosaic     # 將圖片的剪裁區域，換成馬賽克的圖\n",
    "cv2.namedWindow('eee',0)\n",
    "cv2.imshow('eee',img)\n",
    "cv2.waitKey(0)"
   ]
  },
  {
   "cell_type": "code",
   "execution_count": null,
   "id": "6fd87f07",
   "metadata": {},
   "outputs": [],
   "source": [
    "import cv2\n",
    "import numpy as np \n",
    "\n",
    "def convex(src_img, raw, effect):\n",
    "    col, row, channel = raw[:]       # 取得圖片資訊\n",
    "    cx,cy, r = effect[:]             # 取得凸透鏡的範圍\n",
    "    output = np.zeros([row,col,channel],dtype=np.uint8)   #產生空白畫布\n",
    "    \n",
    "    for y in range(row):\n",
    "        for x in range(col):\n",
    "            d = ((x-cx) * (x-cx) + (y-cy) * (y-cy)) ** 0.5    #計算每個點與中心點的距離\n",
    "            \n",
    "            if d <= r:\n",
    "                nx = int((x-cx) * d / r + cx)   # 根據不同的位置，產生新的 nx，越靠近中心形變越大\n",
    "                ny = int((y-cy) * d / r + cy)    # 根據不同的位置，產生新的 ny，越靠近中心形變越大\n",
    "                \n",
    "                output[y,x,:] = src_img[ny,nx,:]   # 產生新的圖\n",
    "            else:\n",
    "                output[y,x,:] = src_img[y,x,:]     # 如果在半徑範圍之外，原封不動複製過去\n",
    "    return output\n",
    "\n",
    "img = cv2.imread('C:/Users/Rebecca/Desktop/test.JPG')\n",
    "img = convex(img,(300,400,3),(450,730,1000))   # 提交參數數值，進行凸透鏡效果\n",
    "\n",
    "\n",
    "cv2.imshow('pic',img)\n",
    "cv2.waitKey(0)\n"
   ]
  },
  {
   "cell_type": "code",
   "execution_count": null,
   "id": "a021c7fd",
   "metadata": {},
   "outputs": [],
   "source": [
    "# 先將圖片轉灰階後，再套用模糊化效果，最後使用 Laplacian()方法產生邊緣偵測的影像\n",
    "import cv2\n",
    "img = cv2.imread('C:/Users/Rebecca/Desktop/test.JPG')\n",
    "img = cv2.cvtColor(img,cv2.COLOR_BGR2GRAY)    # 轉成灰階\n",
    "img = cv2.medianBlur(img,7)                   # 模糊化，去除雜訊\n",
    "output = cv2.Laplacian(img,-1,1,5)            # 偵測邊緣\n",
    "# img 來源影像\n",
    "# ddepth 影像深度，設定-1表示使用圖片原本影像深度\n",
    "# ksize 運算區域大小，預設 1 (必須是正奇數)\n",
    "# scale 縮放比例常數，預設 1 (必須是正奇數)\n",
    "cv2.namedWindow('ii',0)\n",
    "cv2.imshow('ii',output)\n",
    "cv2.waitKey(0)\n"
   ]
  },
  {
   "cell_type": "code",
   "execution_count": null,
   "id": "653f09d4",
   "metadata": {},
   "outputs": [],
   "source": [
    "import cv2\n",
    "img = cv2.imread('C:/Users/Rebecca/Desktop/test.JPG')\n",
    "img = cv2.cvtColor(img,cv2.COLOR_BGR2GRAY)     # 轉成灰階\n",
    "img = cv2.medianBlur(img,7)                    # 模糊化，去除雜訊\n",
    "output = cv2.Sobel(img,-1,1,1,1,7)             # 偵側邊緣\n",
    "# img 來源影像\n",
    "# dx 針對 x 軸抓取邊緣\n",
    "# dy 針對 y 軸抓取邊緣\n",
    "# ddepth 影像深度，設定 -1 表示使用圖片原本影像深度\n",
    "# ksize 運算區域大小，預設 1 (必須是正奇數)\n",
    "# scale 縮放比例常數，預設 1 (必須是正奇數)\n",
    "cv2.namedWindow('eee',0)\n",
    "cv2.imshow('eee',output)\n",
    "cv2.waitKey(0)\n"
   ]
  },
  {
   "cell_type": "code",
   "execution_count": null,
   "id": "b5afa8e3",
   "metadata": {},
   "outputs": [],
   "source": [
    "import cv2\n",
    "img = cv2.imread('C:/Users/Rebecca/Desktop/test.JPG')\n",
    "img = cv2.cvtColor(img,cv2.COLOR_BGR2GRAY)      # 轉成灰階\n",
    "img = cv2.medianBlur(img,7)                     # 模糊化，去除雜訊\n",
    "output = cv2.Canny(img,36,36)                   # 偵測邊緣\n",
    "# img 來源影像\n",
    "# threshold1 門檻值，範圍 0-255\n",
    "# threshold2 門檻值，範圍 0-255\n",
    "# apertureSize 計算梯度的kernel size，預設 3\n",
    "print(output)\n",
    "cv2.namedWindow('ppp',0)\n",
    "cv2.imshow('ppp',output)\n",
    "cv2.waitKey(0)"
   ]
  },
  {
   "cell_type": "code",
   "execution_count": null,
   "id": "795106cb",
   "metadata": {},
   "outputs": [],
   "source": [
    "# 此範例，會先將圖片進行侵蝕，\n",
    "#侵蝕後，比較小的白色圓點就會因為侵蝕而消失，接著再進行膨脹，就可以將主體結構恢復原本的大小，實現去除雜訊的效果\n",
    "\n",
    "# kernel = cv2.getStructingElement(shape, ksize)\n",
    "# 返回指定大小形狀的結構\n",
    "# shape 的內容 : cv2.MORPH_RECT (矩形)、cv2.MORPH_CROSS (十字交叉)、cv2.MORPH_ELLIPSE (橢圓形)\n",
    "# ksize 的格式 : (x,y)\n",
    "# img = cv2.erode(img,kernel)   # 侵蝕\n",
    "# img = cv2.dilate(img,kernel) # 擴張\n",
    "import cv2\n",
    "img = cv2.imread('C:/Users/Rebecca/Desktop/black.JPG')\n",
    "cv2.namedWindow('qqq',0)\n",
    "cv2.imshow('qqq',img)          # 原始影像\n",
    "\n",
    "img2 = cv2.cvtColor(img,cv2.COLOR_BGR2GRAY)\n",
    "kernel = cv2.getStructuringElement(cv2.MORPH_RECT,(11,11))\n",
    "\n",
    "img = cv2.erode(img,kernel)      # 先侵蝕，將白色小圓點移除\n",
    "cv2.namedWindow('qqq1',0)\n",
    "cv2.imshow('qqq1',img)           # 先侵蝕後的影像\n",
    "\n",
    "img = cv2.dilate(img,kernel)     # 再膨脹，白色小點消失\n",
    "cv2.namedWindow('qqq2',0)        # 膨脹後的影像\n",
    "cv2.imshow('qqq2',img)\n",
    "\n",
    "cv2.waitKey(0)"
   ]
  },
  {
   "cell_type": "code",
   "execution_count": null,
   "id": "e87ca76c",
   "metadata": {},
   "outputs": [],
   "source": [
    "import cv2 \n",
    "img1 = cv2.imread('C:/Users/Rebecca/Desktop/test.JPG')\n",
    "img2 = cv2.imread('C:/Users/Rebecca/Desktop/nose.jpg')\n",
    "print(img1.shape)\n",
    "print(img1.shape,img2.shape)\n",
    "output = cv2.bitwise_and(img1, img2)\n",
    "cv2.namedWindow('000',0)\n",
    "cv2.imshow('000',output)\n",
    "cv2.waitKey(0)\n"
   ]
  },
  {
   "cell_type": "code",
   "execution_count": null,
   "id": "b70827da",
   "metadata": {},
   "outputs": [],
   "source": [
    "import cv2 \n",
    "img = cv2.imread('C:/Users/Rebecca/Desktop/image')\n",
    "cv2.namedWindow(\"go\",0);  # 壓縮\n",
    "cv2.imwrite('C:/Users/Rebecca/Desktop/image1',img) #存在桌面\n",
    "cv2.waitKey(0)"
   ]
  },
  {
   "cell_type": "code",
   "execution_count": 5,
   "id": "428e36be",
   "metadata": {},
   "outputs": [
    {
     "name": "stdout",
     "output_type": "stream",
     "text": [
      "boy.JPG\n",
      "[array([[210, 209, 207, ...,  22,  28,  27],\n",
      "       [206, 207, 208, ...,  18,  24,  25],\n",
      "       [204, 206, 207, ...,  20,  23,  24],\n",
      "       ...,\n",
      "       [103, 108, 112, ..., 149, 152, 148],\n",
      "       [110, 111, 112, ..., 148, 152, 153],\n",
      "       [111, 109, 108, ..., 142, 146, 154]], dtype=uint8)]\n",
      "test.JPG\n",
      "[array([[210, 209, 207, ...,  22,  28,  27],\n",
      "       [206, 207, 208, ...,  18,  24,  25],\n",
      "       [204, 206, 207, ...,  20,  23,  24],\n",
      "       ...,\n",
      "       [103, 108, 112, ..., 149, 152, 148],\n",
      "       [110, 111, 112, ..., 148, 152, 153],\n",
      "       [111, 109, 108, ..., 142, 146, 154]], dtype=uint8), array([[ 54,  54,  52, ...,  47,  47,  46],\n",
      "       [ 58,  57,  55, ...,  47,  48,  48],\n",
      "       [ 61,  60,  58, ...,  48,  49,  50],\n",
      "       ...,\n",
      "       [184, 183, 182, ..., 150, 149, 149],\n",
      "       [184, 183, 182, ..., 156, 154, 154],\n",
      "       [183, 182, 182, ..., 154, 153, 153]], dtype=uint8)]\n"
     ]
    }
   ],
   "source": [
    "import cv2\n",
    "import os\n",
    "def read_directory(image):\n",
    "    for filename in os.listdir(image):\n",
    "        print(filename)\n",
    "        img = cv2.imread(image + \"/\" + filename)\n",
    "        img = cv2.cvtColor(img,cv2.COLOR_BGR2GRAY)  # 轉灰階\n",
    "        cv2.namedWindow(filename,0)\n",
    "        cv2.imshow(filename, img)\n",
    "        cv2.waitKey(0)\n",
    "        \n",
    "        \n",
    "read_directory('C:/Users/Rebecca/Desktop/image')\n",
    "\n"
   ]
  },
  {
   "cell_type": "code",
   "execution_count": 8,
   "id": "f558f440",
   "metadata": {},
   "outputs": [
    {
     "name": "stdout",
     "output_type": "stream",
     "text": [
      "C:/Users/Rebecca/Desktop/rebecca\n"
     ]
    },
    {
     "ename": "error",
     "evalue": "OpenCV(4.8.0) D:\\a\\opencv-python\\opencv-python\\opencv\\modules\\imgcodecs\\src\\loadsave.cpp:696: error: (-2:Unspecified error) could not find a writer for the specified extension in function 'cv::imwrite_'\n",
     "output_type": "error",
     "traceback": [
      "\u001b[1;31m---------------------------------------------------------------------------\u001b[0m",
      "\u001b[1;31merror\u001b[0m                                     Traceback (most recent call last)",
      "Cell \u001b[1;32mIn[8], line 12\u001b[0m\n\u001b[0;32m     10\u001b[0m         cv2\u001b[38;5;241m.\u001b[39mimwrite(\u001b[38;5;124m'\u001b[39m\u001b[38;5;124mC:/Users/Rebecca/Desktop/rebecca1\u001b[39m\u001b[38;5;124m'\u001b[39m,img)\n\u001b[0;32m     11\u001b[0m         cv2\u001b[38;5;241m.\u001b[39mwaitKey(\u001b[38;5;241m0\u001b[39m)\n\u001b[1;32m---> 12\u001b[0m \u001b[43mread_directory\u001b[49m\u001b[43m(\u001b[49m\u001b[38;5;124;43m'\u001b[39;49m\u001b[38;5;124;43mC:/Users/Rebecca/Desktop/rebecca\u001b[39;49m\u001b[38;5;124;43m'\u001b[39;49m\u001b[43m)\u001b[49m\n",
      "Cell \u001b[1;32mIn[8], line 10\u001b[0m, in \u001b[0;36mread_directory\u001b[1;34m(rebecca)\u001b[0m\n\u001b[0;32m      8\u001b[0m output \u001b[38;5;241m=\u001b[39m cv2\u001b[38;5;241m.\u001b[39mwarpAffine(img,M,(\u001b[38;5;241m480\u001b[39m,\u001b[38;5;241m360\u001b[39m))\n\u001b[0;32m      9\u001b[0m cv2\u001b[38;5;241m.\u001b[39mnamedWindow(filename,\u001b[38;5;241m0\u001b[39m)\n\u001b[1;32m---> 10\u001b[0m \u001b[43mcv2\u001b[49m\u001b[38;5;241;43m.\u001b[39;49m\u001b[43mimwrite\u001b[49m\u001b[43m(\u001b[49m\u001b[38;5;124;43m'\u001b[39;49m\u001b[38;5;124;43mC:/Users/Rebecca/Desktop/rebecca1\u001b[39;49m\u001b[38;5;124;43m'\u001b[39;49m\u001b[43m,\u001b[49m\u001b[43mimg\u001b[49m\u001b[43m)\u001b[49m\n\u001b[0;32m     11\u001b[0m cv2\u001b[38;5;241m.\u001b[39mwaitKey(\u001b[38;5;241m0\u001b[39m)\n",
      "\u001b[1;31merror\u001b[0m: OpenCV(4.8.0) D:\\a\\opencv-python\\opencv-python\\opencv\\modules\\imgcodecs\\src\\loadsave.cpp:696: error: (-2:Unspecified error) could not find a writer for the specified extension in function 'cv::imwrite_'\n"
     ]
    }
   ],
   "source": [
    "import cv2\n",
    "import os\n",
    "def read_directory(rebecca):\n",
    "    for filename in os.listdir(rebecca):\n",
    "        print(rebecca)\n",
    "        img = cv2.imread(rebecca + \"/\" + filename)\n",
    "        M = cv2.getRotationMatrix2D((240,180),180,1)\n",
    "        output = cv2.warpAffine(img,M,(480,360))\n",
    "        cv2.namedWindow(filename,0)\n",
    "        cv2.imwrite('C:/Users/Rebecca/Desktop/rebecca1',img)\n",
    "        cv2.waitKey(0)\n",
    "read_directory('C:/Users/Rebecca/Desktop/rebecca')\n",
    "\n",
    "               "
   ]
  },
  {
   "cell_type": "code",
   "execution_count": 11,
   "id": "595edf74",
   "metadata": {},
   "outputs": [],
   "source": [
    "import os\n",
    "import cv2\n",
    "source_folder = 'C:/Users/Rebecca/Desktop/rebecca'\n",
    "target_folder = 'C:/Users/Rebecca/Desktop/rebecca1'\n",
    "for filename in os.listdir(source_folder):\n",
    "    #if filename.endswith('.png')or filename.endswith('.jpg')or filename.endswith('.JPG'):\n",
    "        img = cv2.imread(source_folder + \"/\" + filename)\n",
    "        img = cv2.cvtColor(img,cv2.COLOR_BGR2GRAY)\n",
    "        cv2.imwrite(os.path.join(target_folder,filename),img)\n"
   ]
  },
  {
   "cell_type": "code",
   "execution_count": 15,
   "id": "1a99ea6d",
   "metadata": {},
   "outputs": [
    {
     "name": "stdout",
     "output_type": "stream",
     "text": [
      "0049628_0405111191_I00032307668.jpg\n",
      "0049628_0405111191_I00032307669.jpg\n",
      "cute dog.JPG\n"
     ]
    }
   ],
   "source": [
    "import cv2\n",
    "import os\n",
    "def read_directory(rebecca):\n",
    "    for filename in os.listdir(rebecca):\n",
    "        print(filename)\n",
    "        img = cv2.imread(rebecca + '/'+ filename)\n",
    "        img = cv2.cvtColor(img,cv2.COLOR_BGR2GRAY)\n",
    "        cv2.imwrite('C:/Users/Rebecca/Desktop/rebecca'+'/'+filename,img)\n",
    "read_directory('C:/Users/Rebecca/Desktop/rebecca')"
   ]
  },
  {
   "cell_type": "code",
   "execution_count": 11,
   "id": "c231af02",
   "metadata": {},
   "outputs": [
    {
     "name": "stdout",
     "output_type": "stream",
     "text": [
      "C:\\Users\\Rebecca\\Desktop\\rebecca\\dog\\cute dog.JPG\n",
      "C:\\Users\\Rebecca\\Desktop\\rebecca\\nose\\0049628_0405111191_I00032307668.jpg\n",
      "C:\\Users\\Rebecca\\Desktop\\rebecca\\nose\\0049628_0405111191_I00032307669.jpg\n",
      "finished\n"
     ]
    }
   ],
   "source": [
    "import os\n",
    "import shutil\n",
    "\n",
    "source_path = os.path.abspath(r'C:/Users/Rebecca/Desktop/rebecca')  # 源文件夾\n",
    "target_path = os.path.abspath(r'C:/Users/Rebecca/Desktop/all')   # 目標文件夾\n",
    "if not os.path.exists(target_path):  #目標文件夾不存在就新建\n",
    "    os.makedirs(target_path)\n",
    "\n",
    "if os.path.exists(source_path):   # 源文件夾存在才執行\n",
    "    # root 所指的是當前正在遍歷的這個文件夾的本身的地址\n",
    "    # dirs 是一個list，內容是該文件夾中所有的目錄的名字(不包括子目錄)\n",
    "    # files 同樣是list，內容是該文件夾中所有的文件(不包括子目錄)\n",
    "    for root,dirs,files in os.walk(source_path):\n",
    "        for file in files:\n",
    "            src_file = os.path.join(root,file)\n",
    "            shutil.copy(src_file,target_path)\n",
    "            print(src_file)\n",
    "print('finished')"
   ]
  },
  {
   "cell_type": "code",
   "execution_count": 15,
   "id": "9e4287a6",
   "metadata": {},
   "outputs": [],
   "source": [
    "import os,shutil\n",
    "path0 = 'C:/Users/Rebecca/Desktop/rebecca'\n",
    "path_target = 'C:/Users/Rebecca/Desktop/all'\n",
    "for patient in os.listdir(path0):\n",
    "    path1 = os.path.join(path0,patient)\n",
    "    for file in os.listdir(path1):\n",
    "        path2 = os.path.join(path1,file)\n",
    "        file_new = patient +'_'+ file\n",
    "        path2_target = os.path.join(path_target,file_new)\n",
    "        shutil.copy(path2,path2_target)"
   ]
  },
  {
   "cell_type": "code",
   "execution_count": null,
   "id": "e3ec6221",
   "metadata": {},
   "outputs": [],
   "source": [
    "import os,shutil\n",
    "import random \n",
    "path0 = 'C:/Users/Rebecca/Desktop/rebecca'\n",
    "path_target = 'C:/Users/Rebecca/Desktop/all'\n",
    "sample_num = 2\n",
    "\n",
    "for patient in os.listdir(path0):\n",
    "    path1 = os.path.join(path0,patient)\n",
    "    files = os.listdir(path1)\n",
    "    \n",
    "    if len(files) >= sample_num:\n",
    "        samples = random"
   ]
  }
 ],
 "metadata": {
  "kernelspec": {
   "display_name": "Python 3 (ipykernel)",
   "language": "python",
   "name": "python3"
  },
  "language_info": {
   "codemirror_mode": {
    "name": "ipython",
    "version": 3
   },
   "file_extension": ".py",
   "mimetype": "text/x-python",
   "name": "python",
   "nbconvert_exporter": "python",
   "pygments_lexer": "ipython3",
   "version": "3.9.17"
  }
 },
 "nbformat": 4,
 "nbformat_minor": 5
}
